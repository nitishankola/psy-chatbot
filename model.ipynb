{
 "cells": [
  {
   "cell_type": "code",
   "execution_count": 1,
   "id": "70957716",
   "metadata": {},
   "outputs": [
    {
     "name": "stderr",
     "output_type": "stream",
     "text": [
      "c:\\Users\\Nitish\\AppData\\Local\\Programs\\Python\\Python311\\Lib\\site-packages\\tqdm\\auto.py:21: TqdmWarning: IProgress not found. Please update jupyter and ipywidgets. See https://ipywidgets.readthedocs.io/en/stable/user_install.html\n",
      "  from .autonotebook import tqdm as notebook_tqdm\n",
      "[nltk_data] Downloading package stopwords to\n",
      "[nltk_data]     C:\\Users\\Nitish\\AppData\\Roaming\\nltk_data...\n",
      "[nltk_data]   Package stopwords is already up-to-date!\n",
      "[nltk_data] Downloading package punkt to\n",
      "[nltk_data]     C:\\Users\\Nitish\\AppData\\Roaming\\nltk_data...\n",
      "[nltk_data]   Package punkt is already up-to-date!\n",
      "[nltk_data] Downloading package wordnet to\n",
      "[nltk_data]     C:\\Users\\Nitish\\AppData\\Roaming\\nltk_data...\n",
      "[nltk_data]   Package wordnet is already up-to-date!\n"
     ]
    },
    {
     "name": "stdout",
     "output_type": "stream",
     "text": [
      "Chatbot: Hello! How can I help you today? (Type 'exit' to end)\n",
      "Chatbot: Goodbye!\n"
     ]
    },
    {
     "data": {
      "text/plain": [
       "['psychology_chatbot_model.joblib']"
      ]
     },
     "execution_count": 1,
     "metadata": {},
     "output_type": "execute_result"
    }
   ],
   "source": [
    "import nltk\n",
    "from nltk.stem import WordNetLemmatizer\n",
    "import numpy as np\n",
    "import json\n",
    "import random\n",
    "import requests\n",
    "import os\n",
    "from dotenv import load_dotenv\n",
    "import google.generativeai as genai\n",
    "\n",
    "# Load environment variables from .env file\n",
    "load_dotenv()\n",
    "\n",
    "# Load the intents data from the intents.json\n",
    "with open('intents.json', 'r') as file:\n",
    "    data = json.load(file)\n",
    "\n",
    "# Initializing lemmatizer and creating a set of stopwords\n",
    "nltk.download('stopwords')\n",
    "nltk.download('punkt')\n",
    "nltk.download('wordnet')\n",
    "lemmatizer = WordNetLemmatizer()\n",
    "stop_words = set(nltk.corpus.stopwords.words('english'))\n",
    "\n",
    "# Function to preprocess the text\n",
    "def preprocess_text(text):\n",
    "    # Convert to lowercase\n",
    "    text = text.lower()\n",
    "    # Tokenize\n",
    "    tokens = nltk.word_tokenize(text)\n",
    "    # Remove punctuation and lemmatize\n",
    "    tokens = [lemmatizer.lemmatize(word) for word in tokens if word.isalnum()]\n",
    "    # Remove stopwords\n",
    "    tokens = [word for word in tokens if word not in stop_words]\n",
    "    return tokens\n",
    "\n",
    "# Creating a dictionary to hold the patterns and their corresponding tags\n",
    "patterns_dict = {}\n",
    "for intent in data['intents']:\n",
    "    for pattern in intent['patterns']:\n",
    "        patterns_dict[tuple(preprocess_text(pattern))] = intent['tag']\n",
    "\n",
    "# Creating a dictionary to hold the responses and their corresponding tags\n",
    "responses_dict = {}\n",
    "for intent in data['intents']:\n",
    "    responses_dict[intent['tag']] = intent['responses']\n",
    "\n",
    "# Function to get a response from the chatbot\n",
    "def get_response(user_input):\n",
    "    user_input_tokens = preprocess_text(user_input)\n",
    "    for pattern, tag in patterns_dict.items():\n",
    "        if set(user_input_tokens).intersection(set(pattern)):\n",
    "            return random.choice(responses_dict[tag])\n",
    "    return get_gemini_response(user_input)\n",
    "\n",
    "# Configure the Gemini API\n",
    "api_key = os.getenv(\"GOOGLE_API_KEY\")\n",
    "if not api_key:\n",
    "    raise ValueError(\"No API key found. Please set the GOOGLE_API_KEY environment variable.\")\n",
    "genai.configure(api_key=api_key)\n",
    "\n",
    "# Function to call Gemini API\n",
    "def get_gemini_response(question):\n",
    "    model = genai.GenerativeModel(\"gemini-pro\")\n",
    "    response = model.generate_content(question)\n",
    "    if response:\n",
    "        return response.text\n",
    "    else:\n",
    "        return \"I'm sorry, I don't understand.\"\n",
    "\n",
    "# Chat loop\n",
    "print(\"Chatbot: Hello! How can I help you today? (Type 'exit' to end)\")\n",
    "while True:\n",
    "    user_input = input(\"You: \")\n",
    "    if user_input.lower() == 'exit':\n",
    "        print(\"Chatbot: Goodbye!\")\n",
    "        break\n",
    "    response = get_response(user_input)\n",
    "    print(\"Chatbot:\", response)\n",
    "\n",
    "import joblib\n",
    "# Save the model using joblib\n",
    "joblib.dump((patterns_dict, responses_dict), 'psychology_chatbot_model.joblib')\n"
   ]
  },
  {
   "cell_type": "code",
   "execution_count": 2,
   "id": "f81d7bdb",
   "metadata": {},
   "outputs": [
    {
     "name": "stdout",
     "output_type": "stream",
     "text": [
      "Note: you may need to restart the kernel to use updated packages.\n"
     ]
    }
   ],
   "source": [
    "%pip install -q -U google-generativeai\n"
   ]
  },
  {
   "cell_type": "code",
   "execution_count": 3,
   "id": "62a7de7f",
   "metadata": {},
   "outputs": [
    {
     "name": "stdout",
     "output_type": "stream",
     "text": [
      "None\n"
     ]
    }
   ],
   "source": [
    "import os\n",
    "\n",
    "api_key = os.getenv('')\n",
    "print(api_key)"
   ]
  },
  {
   "cell_type": "code",
   "execution_count": 4,
   "id": "ef9c24bc",
   "metadata": {},
   "outputs": [
    {
     "name": "stdout",
     "output_type": "stream",
     "text": [
      "Requirement already satisfied: python-dotenv in c:\\users\\nitish\\appdata\\local\\programs\\python\\python311\\lib\\site-packages (1.0.1)\n",
      "Note: you may need to restart the kernel to use updated packages.\n"
     ]
    }
   ],
   "source": [
    "pip install python-dotenv\n"
   ]
  },
  {
   "cell_type": "code",
   "execution_count": null,
   "id": "aa727bfc",
   "metadata": {},
   "outputs": [],
   "source": []
  }
 ],
 "metadata": {
  "kernelspec": {
   "display_name": "Python 3 (ipykernel)",
   "language": "python",
   "name": "python3"
  },
  "language_info": {
   "codemirror_mode": {
    "name": "ipython",
    "version": 3
   },
   "file_extension": ".py",
   "mimetype": "text/x-python",
   "name": "python",
   "nbconvert_exporter": "python",
   "pygments_lexer": "ipython3",
   "version": "3.11.3"
  }
 },
 "nbformat": 4,
 "nbformat_minor": 5
}
